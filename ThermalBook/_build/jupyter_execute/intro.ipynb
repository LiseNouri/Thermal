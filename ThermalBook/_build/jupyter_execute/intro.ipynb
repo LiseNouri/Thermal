{
 "cells": [
  {
   "cell_type": "markdown",
   "id": "5ef9cf71",
   "metadata": {},
   "source": [
    "# AE4ASM526 Spacecraft Thermal Design \n",
    "\n",
    "\n",
    "The student is able to generate a thermal design of a satellite using heat transfer analysis and thermal engineering techniques.\n",
    "````{margin}\n",
    "```{note}\n",
    "These are the learning objectives of the course\n",
    "```\n",
    "````\n",
    "In more detail the student will be able to:\n",
    "- Understand the spacecraft thermal environment\n",
    "- Define the thermal subsystem and compare the different hardware options.\n",
    "- Understand the design cycle of the thermal subsystem.\n",
    "- Apply the concepts of heat transfer (radiation, conduction), heat balance and heat flows\n",
    "- Generate and use analytical thermal analysis models\n",
    "- Generate and use numerical thermal analysis models\n",
    "\n",
    ":::{note}\n",
    "This text is **standard** _Markdown_\n",
    ":::"
   ]
  },
  {
   "cell_type": "code",
   "execution_count": 1,
   "id": "c4e5952b",
   "metadata": {},
   "outputs": [
    {
     "name": "stdout",
     "output_type": "stream",
     "text": [
      "Python syntax highlighting\n"
     ]
    }
   ],
   "source": [
    "note = \"Python syntax highlighting\"\n",
    "print(note)"
   ]
  },
  {
   "cell_type": "markdown",
   "id": "aa53ea6d",
   "metadata": {},
   "source": [
    "```{epigraph}\n",
    "Here is a cool quotation.\n",
    "\n",
    "-- Jo the Jovyan\n",
    "```\n",
    "\n",
    "\n",
    "```{tableofcontents}\n",
    "```"
   ]
  }
 ],
 "metadata": {
  "jupytext": {
   "formats": "md:myst",
   "text_representation": {
    "extension": ".md",
    "format_name": "myst"
   }
  },
  "kernelspec": {
   "display_name": "Python 3",
   "language": "python",
   "name": "python3"
  },
  "language_info": {
   "codemirror_mode": {
    "name": "ipython",
    "version": 3
   },
   "file_extension": ".py",
   "mimetype": "text/x-python",
   "name": "python",
   "nbconvert_exporter": "python",
   "pygments_lexer": "ipython3",
   "version": "3.12.1"
  },
  "source_map": [
   11,
   34,
   37
  ]
 },
 "nbformat": 4,
 "nbformat_minor": 5
}
{
 "cells": [
  {
   "cell_type": "markdown",
   "id": "40836b74",
   "metadata": {},
   "source": [
    "# Learning Objectives\n",
    "\n",
    "The student is able to generate a thermal design of a satellite using heat transfer analysis and thermal engineering techniques.\n",
    "\n",
    "In more detail the student will be able to:\n",
    "- Understand the spacecraft thermal environment\n",
    "- Define the thermal subsystem and compare the different hardware options.\n",
    "- Understand the design cycle of the thermal subsystem.\n",
    "- Apply the concepts of heat transfer (radiation, conduction), heat balance and heat flows\n",
    "- Generate and use analytical thermal analysis models\n",
    "- Generate and use numerical thermal analysis models\n",
    "\n",
    "\n",
    "\n",
    "```{tableofcontents}\n",
    "```\n",
    "\n",
    "# Citations\n",
    "\n",
    "```{bibliography}\n",
    "```"
   ]
  }
 ],
 "metadata": {
  "jupytext": {
   "formats": "md:myst",
   "text_representation": {
    "extension": ".md",
    "format_name": "myst"
   }
  },
  "kernelspec": {
   "display_name": "Python 3",
   "language": "python",
   "name": "python3"
  },
  "language_info": {
   "codemirror_mode": {
    "name": "ipython",
    "version": 3
   },
   "file_extension": ".py",
   "mimetype": "text/x-python",
   "name": "python",
   "nbconvert_exporter": "python",
   "pygments_lexer": "ipython3",
   "version": "3.12.1"
  },
  "source_map": [
   11
  ]
 },
 "nbformat": 4,
 "nbformat_minor": 5
}